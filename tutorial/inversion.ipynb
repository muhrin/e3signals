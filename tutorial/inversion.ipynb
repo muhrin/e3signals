{
 "cells": [
  {
   "cell_type": "code",
   "execution_count": 49,
   "metadata": {
    "collapsed": true
   },
   "outputs": [],
   "source": [
    "from e3nn import o3\n",
    "import e3signals\n",
    "import torch"
   ]
  },
  {
   "cell_type": "code",
   "execution_count": 50,
   "outputs": [
    {
     "name": "stdout",
     "output_type": "stream",
     "text": [
      "2x0e+2x1o+2x2e\n",
      "18\n"
     ]
    }
   ],
   "source": [
    "irreps = o3.Irreps.spherical_harmonics(2)\n",
    "irreps = (irreps * 2).sort().irreps.simplify()\n",
    "print(irreps)\n",
    "print(irreps.dim)"
   ],
   "metadata": {
    "collapsed": false
   }
  },
  {
   "cell_type": "code",
   "execution_count": 51,
   "outputs": [],
   "source": [
    "ps = e3signals.invariants.power_spectrum(irreps)"
   ],
   "metadata": {
    "collapsed": false
   }
  },
  {
   "cell_type": "code",
   "execution_count": 75,
   "outputs": [
    {
     "data": {
      "text/plain": "[Instruction(i_in1=0, i_in2=0, i_out=0, connection_mode='uvu<v', has_weight=False, path_weight=1.0, path_shape=(1,)),\n Instruction(i_in1=0, i_in2=0, i_out=1, connection_mode='uuu', has_weight=False, path_weight=0.5773502691896257, path_shape=(2,)),\n Instruction(i_in1=1, i_in2=1, i_out=2, connection_mode='uvu<v', has_weight=False, path_weight=1.0, path_shape=(1,)),\n Instruction(i_in1=1, i_in2=1, i_out=3, connection_mode='uuu', has_weight=False, path_weight=0.4472135954999579, path_shape=(2,)),\n Instruction(i_in1=2, i_in2=2, i_out=4, connection_mode='uvu<v', has_weight=False, path_weight=1.0, path_shape=(1,)),\n Instruction(i_in1=2, i_in2=2, i_out=5, connection_mode='uuu', has_weight=False, path_weight=0.3779644730092272, path_shape=(2,))]"
     },
     "execution_count": 75,
     "metadata": {},
     "output_type": "execute_result"
    }
   ],
   "source": [
    "ps.instructions"
   ],
   "metadata": {
    "collapsed": false
   }
  },
  {
   "cell_type": "code",
   "execution_count": 52,
   "outputs": [],
   "source": [
    "jac = torch.autograd.functional.jacobian(ps, torch.ones(irreps.dim))"
   ],
   "metadata": {
    "collapsed": false
   }
  },
  {
   "cell_type": "code",
   "execution_count": 53,
   "outputs": [
    {
     "data": {
      "text/plain": "torch.Size([9, 18])"
     },
     "execution_count": 53,
     "metadata": {},
     "output_type": "execute_result"
    }
   ],
   "source": [
    "jac.shape"
   ],
   "metadata": {
    "collapsed": false
   }
  },
  {
   "cell_type": "code",
   "execution_count": 54,
   "outputs": [
    {
     "data": {
      "text/plain": "tensor([[ 0,  0],\n        [ 0,  1],\n        [ 1,  0],\n        [ 2,  1],\n        [ 3,  2],\n        [ 3,  3],\n        [ 3,  4],\n        [ 3,  5],\n        [ 3,  6],\n        [ 3,  7],\n        [ 4,  2],\n        [ 4,  3],\n        [ 4,  4],\n        [ 5,  5],\n        [ 5,  6],\n        [ 5,  7],\n        [ 6,  8],\n        [ 6,  9],\n        [ 6, 10],\n        [ 6, 11],\n        [ 6, 12],\n        [ 6, 13],\n        [ 6, 14],\n        [ 6, 15],\n        [ 6, 16],\n        [ 6, 17],\n        [ 7,  8],\n        [ 7,  9],\n        [ 7, 10],\n        [ 7, 11],\n        [ 7, 12],\n        [ 8, 13],\n        [ 8, 14],\n        [ 8, 15],\n        [ 8, 16],\n        [ 8, 17]])"
     },
     "execution_count": 54,
     "metadata": {},
     "output_type": "execute_result"
    }
   ],
   "source": [
    "jac.nonzero()"
   ],
   "metadata": {
    "collapsed": false
   }
  },
  {
   "cell_type": "code",
   "execution_count": 55,
   "outputs": [
    {
     "data": {
      "text/plain": "[Instruction(i_in1=0, i_in2=0, i_out=0, connection_mode='uvu<v', has_weight=False, path_weight=1.0, path_shape=(1,)),\n Instruction(i_in1=0, i_in2=0, i_out=1, connection_mode='uuu', has_weight=False, path_weight=0.5773502691896257, path_shape=(2,)),\n Instruction(i_in1=1, i_in2=1, i_out=2, connection_mode='uvu<v', has_weight=False, path_weight=1.0, path_shape=(1,)),\n Instruction(i_in1=1, i_in2=1, i_out=3, connection_mode='uuu', has_weight=False, path_weight=0.4472135954999579, path_shape=(2,)),\n Instruction(i_in1=2, i_in2=2, i_out=4, connection_mode='uvu<v', has_weight=False, path_weight=1.0, path_shape=(1,)),\n Instruction(i_in1=2, i_in2=2, i_out=5, connection_mode='uuu', has_weight=False, path_weight=0.3779644730092272, path_shape=(2,))]"
     },
     "execution_count": 55,
     "metadata": {},
     "output_type": "execute_result"
    }
   ],
   "source": [
    "ps.instructions"
   ],
   "metadata": {
    "collapsed": false
   }
  },
  {
   "cell_type": "code",
   "execution_count": 56,
   "outputs": [],
   "source": [
    "bs = o3.ReducedTensorProducts(\"ijk=jik=kji\", filter_ir_out=['0e'], i=irreps)"
   ],
   "metadata": {
    "collapsed": false
   }
  },
  {
   "cell_type": "code",
   "execution_count": 67,
   "outputs": [
    {
     "data": {
      "text/plain": "[(0, 0, 0, 'uuu', False, 2.23606797749979, (1,))]"
     },
     "execution_count": 67,
     "metadata": {},
     "output_type": "execute_result"
    }
   ],
   "source": [
    "bs.main.tp7.instructions"
   ],
   "metadata": {
    "collapsed": false
   }
  },
  {
   "cell_type": "code",
   "execution_count": 74,
   "outputs": [
    {
     "data": {
      "text/plain": "[(0, 0, 0, 'uuu', False, 1.7320508075688772, (1,))]"
     },
     "execution_count": 74,
     "metadata": {},
     "output_type": "execute_result"
    }
   ],
   "source": [
    "bs.main.tp1.instructions"
   ],
   "metadata": {
    "collapsed": false
   }
  },
  {
   "cell_type": "code",
   "execution_count": null,
   "outputs": [],
   "source": [],
   "metadata": {
    "collapsed": false
   }
  }
 ],
 "metadata": {
  "kernelspec": {
   "display_name": "Python 3",
   "language": "python",
   "name": "python3"
  },
  "language_info": {
   "codemirror_mode": {
    "name": "ipython",
    "version": 2
   },
   "file_extension": ".py",
   "mimetype": "text/x-python",
   "name": "python",
   "nbconvert_exporter": "python",
   "pygments_lexer": "ipython2",
   "version": "2.7.6"
  }
 },
 "nbformat": 4,
 "nbformat_minor": 0
}
